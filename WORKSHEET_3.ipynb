{
  "nbformat": 4,
  "nbformat_minor": 0,
  "metadata": {
    "colab": {
      "provenance": []
    },
    "kernelspec": {
      "name": "python3",
      "display_name": "Python 3"
    },
    "language_info": {
      "name": "python"
    }
  },
  "cells": [
    {
      "cell_type": "code",
      "execution_count": null,
      "metadata": {
        "colab": {
          "base_uri": "https://localhost:8080/"
        },
        "id": "Z41wxRsKOXwc",
        "outputId": "3c1bd52e-157c-4849-f4cb-b9b87b206902"
      },
      "outputs": [
        {
          "output_type": "stream",
          "name": "stdout",
          "text": [
            "16\n",
            "10\n"
          ]
        }
      ],
      "source": [
        "#SOL 1\n",
        "def cal_diff(num):\n",
        "  diff=num-17\n",
        "  if num >17:\n",
        "    return 2* abs(diff)\n",
        "  return abs(diff)\n",
        "print(cal_diff(25))\n",
        "print(cal_diff(7))\n"
      ]
    },
    {
      "cell_type": "code",
      "source": [
        "#SOL 2\n",
        "def within_range(num):\n",
        "  return(100<=num<=1000) or (num==2000)\n",
        "print(within_range(500))\n",
        "print(within_range(1500))\n",
        "print(within_range(2000))"
      ],
      "metadata": {
        "colab": {
          "base_uri": "https://localhost:8080/"
        },
        "id": "lVfcV_sySTut",
        "outputId": "2ade60e6-6166-407c-e2d9-f88485af44ce"
      },
      "execution_count": null,
      "outputs": [
        {
          "output_type": "stream",
          "name": "stdout",
          "text": [
            "True\n",
            "False\n",
            "True\n"
          ]
        }
      ]
    },
    {
      "cell_type": "code",
      "source": [
        "#SOL 3\n",
        "def str_rev(s):\n",
        "  return s[::-1]\n",
        "print(str_rev(\"hello\"))"
      ],
      "metadata": {
        "colab": {
          "base_uri": "https://localhost:8080/"
        },
        "id": "d7lSbLI4VINK",
        "outputId": "99826132-e3b1-4672-b65e-5092dba3b94d"
      },
      "execution_count": null,
      "outputs": [
        {
          "output_type": "stream",
          "name": "stdout",
          "text": [
            "olleh\n"
          ]
        }
      ]
    },
    {
      "cell_type": "code",
      "source": [
        "#SOL 4\n",
        "def check_case(s):\n",
        "  upper_count=sum(1 for char in s if char.isupper())\n",
        "  lower_count=sum(1 for char in s if char.islower())\n",
        "  return upper_count,lower_count\n",
        "print(check_case(\"How are you\"))"
      ],
      "metadata": {
        "colab": {
          "base_uri": "https://localhost:8080/"
        },
        "id": "uVeeQq-UVdI1",
        "outputId": "c2ff24a5-dedb-4073-dd5a-da7c5c087d2d"
      },
      "execution_count": null,
      "outputs": [
        {
          "output_type": "stream",
          "name": "stdout",
          "text": [
            "(1, 8)\n"
          ]
        }
      ]
    },
    {
      "cell_type": "code",
      "source": [
        "#SOL 5\n",
        "def new_list(lst):\n",
        "  return list(set(lst))\n",
        "print(new_list([1,1,2,2,2,3,3]))"
      ],
      "metadata": {
        "colab": {
          "base_uri": "https://localhost:8080/"
        },
        "id": "EXctvO4pXcrB",
        "outputId": "9552cf15-cbc4-4b61-a861-e0dccfe8c7c6"
      },
      "execution_count": null,
      "outputs": [
        {
          "output_type": "stream",
          "name": "stdout",
          "text": [
            "[1, 2, 3]\n"
          ]
        }
      ]
    },
    {
      "cell_type": "code",
      "source": [
        "#SOL 6\n",
        "def even_numbers(lst):\n",
        "  return[num for num in lst if num%2==0]\n",
        "print(even_numbers([1,2,3,4,5,6,7,8,9]))"
      ],
      "metadata": {
        "colab": {
          "base_uri": "https://localhost:8080/"
        },
        "id": "Htb0Pt5iYWRR",
        "outputId": "bc9a86f7-59cd-4bad-97cf-68f8de7bf507"
      },
      "execution_count": null,
      "outputs": [
        {
          "output_type": "stream",
          "name": "stdout",
          "text": [
            "[2, 4, 6, 8]\n"
          ]
        }
      ]
    },
    {
      "cell_type": "code",
      "source": [
        "#SOL 7\n",
        "def outer_func():\n",
        "  def inner_func():\n",
        "    return\"Hello\"\n",
        "  return inner_func()\n",
        "print(outer_func())"
      ],
      "metadata": {
        "colab": {
          "base_uri": "https://localhost:8080/"
        },
        "id": "e8x3EBQ3ZsoN",
        "outputId": "7ea79727-5b3e-4d46-f05c-06115d2266f6"
      },
      "execution_count": null,
      "outputs": [
        {
          "output_type": "stream",
          "name": "stdout",
          "text": [
            "Hello\n"
          ]
        }
      ]
    },
    {
      "cell_type": "code",
      "source": [
        "#SOL 8\n",
        "def student(name,age,grade):\n",
        "  student.args=(name,age,grade)\n",
        "  print(\"Function attributes (arguments): \",student.args)\n",
        "student(\"Raman\",14,\"11th Grade\")"
      ],
      "metadata": {
        "colab": {
          "base_uri": "https://localhost:8080/"
        },
        "id": "n4p4Wj-Ra6Lo",
        "outputId": "03520ac4-0680-4810-cdc9-d813a3967037"
      },
      "execution_count": null,
      "outputs": [
        {
          "output_type": "stream",
          "name": "stdout",
          "text": [
            "Function attributes (arguments):  ('Raman', 14, '11th Grade')\n"
          ]
        }
      ]
    },
    {
      "cell_type": "code",
      "source": [
        "#SOL 9\n",
        "class Student:\n",
        " def __init__(self,student_id,student_name,student_class):\n",
        "    self.student_id=student_id\n",
        "    self.student_name=student_name\n",
        "    self.student_class=student_class\n",
        " def display_attributes(self):\n",
        "    print(f\"ID:{self.student_id}\")\n",
        "    print(f\"Name:{self.student_name}\")\n",
        "    print(f\"Class:{self.student_class}\")\n",
        "student=  Student(2,\"Ram\",\"10th grade\")\n",
        "student.display_attributes()"
      ],
      "metadata": {
        "colab": {
          "base_uri": "https://localhost:8080/"
        },
        "id": "idOiWpRWfLlO",
        "outputId": "b555a0ab-555c-497f-c763-4083fb23c12f"
      },
      "execution_count": null,
      "outputs": [
        {
          "output_type": "stream",
          "name": "stdout",
          "text": [
            "ID:2\n",
            "Name:Ram\n",
            "Class:10th grade\n"
          ]
        }
      ]
    },
    {
      "cell_type": "code",
      "source": [
        "#SOL 10\n",
        "class Student:\n",
        "  def __init__(self,name,age,grade):\n",
        "    self.name=name\n",
        "    self.age=age\n",
        "    self.grade=grade\n",
        "student1=Student(\"Ram\",19,\"A\")\n",
        "student2=Student(\"Sham\",22,\"B\")\n",
        "\n",
        "print(f\"student1.name={student1.name}\")\n",
        "print(f\"student1.age={student1.age}\")\n",
        "print(f\"student1.grade={student1.grade}\")\n",
        "\n",
        "print(f\"student2.name={student2.name}\")\n",
        "print(f\"student2.age={student2.age}\")\n",
        "print(f\"student2.grade={student2.grade}\")\n",
        "\n"
      ],
      "metadata": {
        "colab": {
          "base_uri": "https://localhost:8080/"
        },
        "id": "QcU4df_Xi6jR",
        "outputId": "1726d8e2-ada6-444c-dd29-0235bbb128ed"
      },
      "execution_count": null,
      "outputs": [
        {
          "output_type": "stream",
          "name": "stdout",
          "text": [
            "student1.name=Ram\n",
            "student1.age=19\n",
            "student1.grade=A\n",
            "student2.name=Sham\n",
            "student2.age=22\n",
            "student2.grade=B\n"
          ]
        }
      ]
    },
    {
      "cell_type": "code",
      "source": [
        "#SOL 11\n",
        "class Circle:\n",
        "  def __init__(self,radius):\n",
        "    self.radius=radius\n",
        "  def area(self):\n",
        "    return 3.14*(self.radius**2)\n",
        "  def perimeter(self):\n",
        "    return 2*3.14*self.radius\n",
        "circle=Circle(5)\n",
        "print(\"Area of the circle:\",circle.area())\n",
        "print(\"Perimeter of the circle: \",circle.perimeter())"
      ],
      "metadata": {
        "colab": {
          "base_uri": "https://localhost:8080/"
        },
        "id": "a3y7UCien4rz",
        "outputId": "d1b1cce3-9b01-46bd-95e9-61dfc861f2a3"
      },
      "execution_count": null,
      "outputs": [
        {
          "output_type": "stream",
          "name": "stdout",
          "text": [
            "Area of the circle: 78.5\n",
            "Perimeter of the circle:  31.400000000000002\n"
          ]
        }
      ]
    },
    {
      "cell_type": "code",
      "source": [
        "#SOL 12\n",
        "class stringManipulator:\n",
        "  def __init__(self):\n",
        "    self.user_string=\" \"\n",
        "  def get_string(self):\n",
        "    self.user_string=input(\"Enter a string: \")\n",
        "  def print_string(self):\n",
        "     print(self.user_string.upper())\n",
        "manipulator=stringManipulator()\n",
        "manipulator.get_string()\n",
        "manipulator.print_string()"
      ],
      "metadata": {
        "id": "T13dg8gMsdz8",
        "colab": {
          "base_uri": "https://localhost:8080/"
        },
        "outputId": "f0de735f-15f6-482b-e768-ce3f7225f785"
      },
      "execution_count": null,
      "outputs": [
        {
          "output_type": "stream",
          "name": "stdout",
          "text": [
            "Enter a string: hello\n",
            "HELLO\n"
          ]
        }
      ]
    }
  ]
}