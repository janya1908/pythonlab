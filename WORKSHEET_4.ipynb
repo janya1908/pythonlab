{
  "nbformat": 4,
  "nbformat_minor": 0,
  "metadata": {
    "colab": {
      "provenance": []
    },
    "kernelspec": {
      "name": "python3",
      "display_name": "Python 3"
    },
    "language_info": {
      "name": "python"
    }
  },
  "cells": [
    {
      "cell_type": "code",
      "execution_count": null,
      "metadata": {
        "colab": {
          "base_uri": "https://localhost:8080/"
        },
        "id": "CPXRmD_5ASsr",
        "outputId": "3bbbb335-cfab-4b28-9e22-6292a06f1cc6"
      },
      "outputs": [
        {
          "output_type": "stream",
          "name": "stdout",
          "text": [
            "[ 5  6  7  8  9 10 11 12 13 14 15 16 17 18 19 20 21 22 23 24 25]\n"
          ]
        }
      ],
      "source": [
        "#SOL 1.1\n",
        "import numpy as np\n",
        "array_1d=np.arange(5,26)\n",
        "print(array_1d)"
      ]
    },
    {
      "cell_type": "code",
      "source": [
        "#SOL 1.2\n",
        "array_2d=np.random.randint(10,51,size=(3,4))\n",
        "print(array_2d)"
      ],
      "metadata": {
        "colab": {
          "base_uri": "https://localhost:8080/"
        },
        "id": "Xc7iOadRBYzB",
        "outputId": "bee607a7-db91-4936-e9f7-269706972659"
      },
      "execution_count": null,
      "outputs": [
        {
          "output_type": "stream",
          "name": "stdout",
          "text": [
            "[[44 29 46 12]\n",
            " [27 43 11 26]\n",
            " [12 43 11 34]]\n"
          ]
        }
      ]
    },
    {
      "cell_type": "code",
      "source": [
        "#SOL 2.1\n",
        "print(\"1D Array Shape:\",array_1d.shape)\n",
        "print(\"1D Array Size:\",array_1d.size)\n",
        "print(\"1D Array Type:\",array_1d.dtype)"
      ],
      "metadata": {
        "colab": {
          "base_uri": "https://localhost:8080/"
        },
        "id": "-ExpKRbTH0ID",
        "outputId": "2a2fc865-f2ce-4115-88a6-b71c8e68cbda"
      },
      "execution_count": null,
      "outputs": [
        {
          "output_type": "stream",
          "name": "stdout",
          "text": [
            "1D Array Shape: (21,)\n",
            "1D Array Size: 21\n",
            "1D Array Type: int64\n"
          ]
        }
      ]
    },
    {
      "cell_type": "code",
      "source": [
        "#SOL 2.2\n",
        "print(\"2D Array Shape:\",array_2d.shape)\n",
        "print(\"2D Array Size:\",array_2d.size)\n",
        "print(\"2D Array Type:\",array_2d.dtype)"
      ],
      "metadata": {
        "colab": {
          "base_uri": "https://localhost:8080/"
        },
        "id": "rPuMOsTKI50R",
        "outputId": "c3dc1e1d-32a7-4f8f-f36b-ccca6151715c"
      },
      "execution_count": null,
      "outputs": [
        {
          "output_type": "stream",
          "name": "stdout",
          "text": [
            "2D Array Shape: (3, 4)\n",
            "2D Array Size: 12\n",
            "2D Array Type: int64\n"
          ]
        }
      ]
    },
    {
      "cell_type": "code",
      "source": [
        "#SOL 3.1\n",
        "array1=np.array([2,4,6,8,10])\n",
        "array2=np.array([1,3,5,7,9])"
      ],
      "metadata": {
        "id": "vZ1kwY_mJV0-"
      },
      "execution_count": null,
      "outputs": []
    },
    {
      "cell_type": "code",
      "source": [
        "#SOL 3.2\n",
        "addition=array1+array2\n",
        "subtraction=array1-array2\n",
        "multiplication=array1*array2\n",
        "division=array1/array2\n",
        "print(\"Addition:\\n\",addition)\n",
        "print(\"Subtraction:\\n\",subtraction)\n",
        "print(\"Element wise Multiplication:\\n\",multiplication)\n",
        "print(\"Element wise Division:\\n\",division)"
      ],
      "metadata": {
        "colab": {
          "base_uri": "https://localhost:8080/"
        },
        "id": "f_XcCX8gKqCD",
        "outputId": "f500df92-8fdf-4f86-f3ed-c7ecbd8dac3c"
      },
      "execution_count": null,
      "outputs": [
        {
          "output_type": "stream",
          "name": "stdout",
          "text": [
            "Addition:\n",
            " [ 3  7 11 15 19]\n",
            "Subtraction:\n",
            " [1 1 1 1 1]\n",
            "Element wise Multiplication:\n",
            " [ 2 12 30 56 90]\n",
            "Element wise Division:\n",
            " [2.         1.33333333 1.2        1.14285714 1.11111111]\n"
          ]
        }
      ]
    },
    {
      "cell_type": "code",
      "source": [
        "#SOL 4.1\n",
        "array_2d_3x3=np.arange(1,10).reshape(3,3)\n",
        "print(array_2d_3x3)"
      ],
      "metadata": {
        "colab": {
          "base_uri": "https://localhost:8080/"
        },
        "id": "iZnTBdQ3LtJS",
        "outputId": "cf69ebea-f9ae-4e42-8d90-46850eeec69b"
      },
      "execution_count": null,
      "outputs": [
        {
          "output_type": "stream",
          "name": "stdout",
          "text": [
            "[[1 2 3]\n",
            " [4 5 6]\n",
            " [7 8 9]]\n"
          ]
        }
      ]
    },
    {
      "cell_type": "code",
      "source": [
        "#SOL 4.2\n",
        "broadcasted_array=array_2d_3x3*5\n",
        "print(broadcasted_array)"
      ],
      "metadata": {
        "colab": {
          "base_uri": "https://localhost:8080/"
        },
        "id": "iROapRV0NYJh",
        "outputId": "d2fda2f3-c3e8-471b-a032-27518f43200e"
      },
      "execution_count": null,
      "outputs": [
        {
          "output_type": "stream",
          "name": "stdout",
          "text": [
            "[[ 5 10 15]\n",
            " [20 25 30]\n",
            " [35 40 45]]\n"
          ]
        }
      ]
    },
    {
      "cell_type": "code",
      "source": [
        "#SOL 5.1\n",
        "array_4x4=np.arange(10,26).reshape(4,4)\n",
        "print(array_4x4)"
      ],
      "metadata": {
        "colab": {
          "base_uri": "https://localhost:8080/"
        },
        "id": "WFtMAANuNq3A",
        "outputId": "97154e7f-a2ff-4320-e553-a2f18ea437d8"
      },
      "execution_count": null,
      "outputs": [
        {
          "output_type": "stream",
          "name": "stdout",
          "text": [
            "[[10 11 12 13]\n",
            " [14 15 16 17]\n",
            " [18 19 20 21]\n",
            " [22 23 24 25]]\n"
          ]
        }
      ]
    },
    {
      "cell_type": "code",
      "source": [
        "#SOL 5.2\n",
        "second_row=array_4x4[1,:]\n",
        "last_column=array_4x4[:,-1]\n",
        "print(\"Second Row:\\n\",second_row)\n",
        "print(\"Last Column:\\n\",last_column)"
      ],
      "metadata": {
        "colab": {
          "base_uri": "https://localhost:8080/"
        },
        "id": "jCiMLQKxNTM7",
        "outputId": "02e9dcbd-1f37-416f-b35c-880b7aab1f00"
      },
      "execution_count": null,
      "outputs": [
        {
          "output_type": "stream",
          "name": "stdout",
          "text": [
            "Second Row:\n",
            " [14 15 16 17]\n",
            "Last Column:\n",
            " [13 17 21 25]\n"
          ]
        }
      ]
    },
    {
      "cell_type": "code",
      "source": [
        "#SOL 5.3\n",
        "array_4x4[0,:]=0\n",
        "print(array_4x4)"
      ],
      "metadata": {
        "colab": {
          "base_uri": "https://localhost:8080/"
        },
        "id": "z3HudrTfP7Kh",
        "outputId": "f7f6590b-9fc2-45b6-807e-edb9f4be169b"
      },
      "execution_count": null,
      "outputs": [
        {
          "output_type": "stream",
          "name": "stdout",
          "text": [
            "[[ 0  0  0  0]\n",
            " [14 15 16 17]\n",
            " [18 19 20 21]\n",
            " [22 23 24 25]]\n"
          ]
        }
      ]
    },
    {
      "cell_type": "code",
      "source": [
        "#SOL 6.1\n",
        "array_random=np.random.randint(20,41,size=10)\n",
        "print(array_random)"
      ],
      "metadata": {
        "colab": {
          "base_uri": "https://localhost:8080/"
        },
        "id": "WRnq2ba_QMp1",
        "outputId": "ccf80082-a36e-4a16-d395-f337f2066126"
      },
      "execution_count": null,
      "outputs": [
        {
          "output_type": "stream",
          "name": "stdout",
          "text": [
            "[28 24 32 29 29 30 40 20 25 28]\n"
          ]
        }
      ]
    },
    {
      "cell_type": "code",
      "source": [
        "#SOL 6.2\n",
        "greater_than_30=array_random[array_random>30]\n",
        "print(greater_than_30)"
      ],
      "metadata": {
        "colab": {
          "base_uri": "https://localhost:8080/"
        },
        "id": "fiyWxDecREH7",
        "outputId": "1c986650-5ce6-489e-c070-1660d18e4e30"
      },
      "execution_count": null,
      "outputs": [
        {
          "output_type": "stream",
          "name": "stdout",
          "text": [
            "[32 40]\n"
          ]
        }
      ]
    },
    {
      "cell_type": "code",
      "source": [
        "#SOL 7.1\n",
        "array_1d_12=np.arange(11,23)\n",
        "print(array_1d_12)"
      ],
      "metadata": {
        "colab": {
          "base_uri": "https://localhost:8080/"
        },
        "id": "VyXaVKYHRzjF",
        "outputId": "494852b3-ce66-4f28-d510-1c6bb9b2f44d"
      },
      "execution_count": null,
      "outputs": [
        {
          "output_type": "stream",
          "name": "stdout",
          "text": [
            "[11 12 13 14 15 16 17 18 19 20 21 22]\n"
          ]
        }
      ]
    },
    {
      "cell_type": "code",
      "source": [
        "#SOL 7.2\n",
        "array_2d_3x4=array_1d_12.reshape(3,4)\n",
        "print(array_2d_3x4)"
      ],
      "metadata": {
        "colab": {
          "base_uri": "https://localhost:8080/"
        },
        "id": "8cVjE5zUSRAn",
        "outputId": "c68a60ae-3fdf-40fd-87aa-f85a61a09c76"
      },
      "execution_count": null,
      "outputs": [
        {
          "output_type": "stream",
          "name": "stdout",
          "text": [
            "[[11 12 13 14]\n",
            " [15 16 17 18]\n",
            " [19 20 21 22]]\n"
          ]
        }
      ]
    },
    {
      "cell_type": "code",
      "source": [
        "#SOL 8.1\n",
        "matrix_A=np.array([[1,2],[3,4]])\n",
        "matrix_B=np.array([[5,6],[7,8]])"
      ],
      "metadata": {
        "id": "aIcCXiBBT7-u"
      },
      "execution_count": null,
      "outputs": []
    },
    {
      "cell_type": "code",
      "source": [
        "#SOL 8.2\n",
        "matrix_multiplication=np.dot (matrix_A,matrix_B)\n",
        "transpose_A=matrix_A.T\n",
        "print(\"Matrix Multiplication:\\n\",matrix_multiplication)\n",
        "print(\"Transpose of Matrix A:\\n\",transpose_A)"
      ],
      "metadata": {
        "colab": {
          "base_uri": "https://localhost:8080/"
        },
        "id": "lTyjwQOKUOWK",
        "outputId": "e5f916c9-eec2-4d20-c751-790118e71791"
      },
      "execution_count": null,
      "outputs": [
        {
          "output_type": "stream",
          "name": "stdout",
          "text": [
            "Matrix Multiplication:\n",
            " [[19 22]\n",
            " [43 50]]\n",
            "Transpose of Matrix A:\n",
            " [[1 3]\n",
            " [2 4]]\n"
          ]
        }
      ]
    },
    {
      "cell_type": "code",
      "source": [
        "#SOL 9.1\n",
        "array_random_15=np.random.randint(10,61,size=15)\n",
        "print(array_random_15)\n"
      ],
      "metadata": {
        "colab": {
          "base_uri": "https://localhost:8080/"
        },
        "id": "-Ur1ZPGUUd0f",
        "outputId": "4c66bf4f-a596-4f51-c144-3c504756ec14"
      },
      "execution_count": null,
      "outputs": [
        {
          "output_type": "stream",
          "name": "stdout",
          "text": [
            "[57 51 29 45 12 58 17 44 29 22 41 53 58 19 40]\n"
          ]
        }
      ]
    },
    {
      "cell_type": "code",
      "source": [
        "#SOL 9.2\n",
        "mean=np.mean(array_random_15)\n",
        "median=np.median(array_random_15)\n",
        "std_dev=np.std(array_random_15)\n",
        "print(\"Mean:\",mean)\n",
        "print(\"Median:\",median)\n",
        "print(\"Standard Deviation:\",std_dev)"
      ],
      "metadata": {
        "colab": {
          "base_uri": "https://localhost:8080/"
        },
        "id": "HpB1jz6YWkM0",
        "outputId": "1104b702-2f19-4239-b958-a94ab7d65e16"
      },
      "execution_count": null,
      "outputs": [
        {
          "output_type": "stream",
          "name": "stdout",
          "text": [
            "Mean: 38.333333333333336\n",
            "Median: 41.0\n",
            "Standard Deviation: 15.378195241603903\n"
          ]
        }
      ]
    },
    {
      "cell_type": "code",
      "source": [
        "#SOL 10.1\n",
        "matrix_A=np.array([[2,1,3],[0,5,6],[7,8,9]])\n",
        "print(matrix_A)"
      ],
      "metadata": {
        "colab": {
          "base_uri": "https://localhost:8080/"
        },
        "id": "tZjwt8fHXQU_",
        "outputId": "6c5f88c9-8bc6-4643-af49-b4a197820cb9"
      },
      "execution_count": null,
      "outputs": [
        {
          "output_type": "stream",
          "name": "stdout",
          "text": [
            "[[2 1 3]\n",
            " [0 5 6]\n",
            " [7 8 9]]\n"
          ]
        }
      ]
    },
    {
      "cell_type": "code",
      "source": [
        "#SOL 10.2\n",
        "determinant_A=np.linalg.det(matrix_A)\n",
        "inverse_A=np.linalg.inv(matrix_A)\n",
        "eigenvalues,eigenvectors=np.linalg.eig(matrix_A)\n",
        "print(\"Determinant of Matrix A:\",determinant_A)\n",
        "print(\"Inverse of Matrix A:\",inverse_A)\n",
        "print(\"Eigenvalues:\\n\",eigenvalues)\n",
        "print(\"Eigenvectors:\\n\",eigenvectors)"
      ],
      "metadata": {
        "colab": {
          "base_uri": "https://localhost:8080/"
        },
        "id": "1NC-F-HWYxN5",
        "outputId": "c5ee09d6-9f6d-4921-cf05-3e465b41d263"
      },
      "execution_count": null,
      "outputs": [
        {
          "output_type": "stream",
          "name": "stdout",
          "text": [
            "Determinant of Matrix A: -68.99999999999996\n",
            "Inverse of Matrix A: [[ 0.04347826 -0.2173913   0.13043478]\n",
            " [-0.60869565  0.04347826  0.17391304]\n",
            " [ 0.50724638  0.13043478 -0.14492754]]\n",
            "Eigenvalues:\n",
            " [15.45215427  2.40475147 -1.85690573]\n",
            "Eigenvectors:\n",
            " [[-0.22453607 -0.55941438 -0.38300969]\n",
            " [-0.48513596  0.7607706  -0.60830181]\n",
            " [-0.84511931 -0.3290648   0.69517803]]\n"
          ]
        }
      ]
    }
  ]
}