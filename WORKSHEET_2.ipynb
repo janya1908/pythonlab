{
  "nbformat": 4,
  "nbformat_minor": 0,
  "metadata": {
    "colab": {
      "provenance": []
    },
    "kernelspec": {
      "name": "python3",
      "display_name": "Python 3"
    },
    "language_info": {
      "name": "python"
    }
  },
  "cells": [
    {
      "cell_type": "code",
      "execution_count": null,
      "metadata": {
        "colab": {
          "base_uri": "https://localhost:8080/"
        },
        "id": "REBk4PhOFtGr",
        "outputId": "6c16b2c3-2c53-4bda-de6d-27e01809d9de"
      },
      "outputs": [
        {
          "output_type": "stream",
          "name": "stdout",
          "text": [
            "After adding 50 and 60:  [11, 12, 13, 14, 50, 60]\n",
            "After removing 11 and 13:  [12, 14, 50, 60]\n",
            "Sorted in ascending order:  [12, 14, 50, 60]\n",
            "Sorted in descending order:  [60, 50, 14, 12]\n",
            "Is 13 present in L? False\n",
            "Number of elements in L: 4\n",
            "Sum of all elements in L: 136\n",
            "Sum of all odd numbers in L: 0\n",
            "Sum of all even numbers in L: 136\n",
            "Sum of all prime numbers in L: 0\n",
            "After clearing all elements in L: []\n"
          ]
        }
      ],
      "source": [
        "#SOL 1\n",
        "#(i)\n",
        "L=[11,12,13,14]\n",
        "L.append(50)\n",
        "L.append(60)\n",
        "print(\"After adding 50 and 60: \",L)\n",
        "#(ii)\n",
        "L.remove(11)\n",
        "L.remove(13)\n",
        "print(\"After removing 11 and 13: \",L)\n",
        "#(iii)\n",
        "L.sort()\n",
        "print(\"Sorted in ascending order: \",L)\n",
        "#(iv)\n",
        "L.sort(reverse=True)\n",
        "print(\"Sorted in descending order: \",L)\n",
        "#(v)\n",
        "search_value=13\n",
        "is_present=search_value in L\n",
        "print(\"Is 13 present in L?\", is_present)\n",
        "#(vi)\n",
        "count=len(L)\n",
        "print(\"Number of elements in L:\",count)\n",
        "#(vii)\n",
        "total_sum=sum(L)\n",
        "print(\"Sum of all elements in L:\",total_sum)\n",
        "#(viii)\n",
        "odd_sum=0\n",
        "for num in L:\n",
        " if num%2!=0:\n",
        "  odd_sum+=num\n",
        "print(\"Sum of all odd numbers in L:\",odd_sum)\n",
        "#(ix)\n",
        "even_sum=0\n",
        "for num in L:\n",
        "  if num%2==0:\n",
        "    even_sum+=num\n",
        "print(\"Sum of all even numbers in L:\",even_sum)\n",
        "#(x)\n",
        "def is_prime(num):\n",
        " if num<2:\n",
        "  return False\n",
        " for i in range(2,int(num**0.5)+1):\n",
        "     if num%i==0:\n",
        "      return False\n",
        " return True\n",
        "prime_sum=0\n",
        "for num in L:\n",
        "   if is_prime(num):\n",
        "    prime_sum+=num\n",
        "print(\"Sum of all prime numbers in L:\",prime_sum)\n",
        "#(xi)\n",
        "L.clear()\n",
        "print(\"After clearing all elements in L:\",L)\n",
        "#(xii)\n",
        "del L"
      ]
    },
    {
      "cell_type": "code",
      "source": [
        "#SOL 2\n",
        "numbers = [1, 2, 3, 4, 5]\n",
        "total_sum = 0\n",
        "for num in numbers:\n",
        "    total_sum += num\n",
        "print(\"Sum of all items in the list:\", total_sum)\n"
      ],
      "metadata": {
        "colab": {
          "base_uri": "https://localhost:8080/"
        },
        "id": "z0IviXlXT05j",
        "outputId": "baa28ecc-14fc-4d0f-b5d9-deb021975ba9"
      },
      "execution_count": null,
      "outputs": [
        {
          "output_type": "stream",
          "name": "stdout",
          "text": [
            "Sum of all items in the list: 15\n"
          ]
        }
      ]
    },
    {
      "cell_type": "code",
      "source": [
        "#SOL 3\n",
        "numbers = [1, 2, 3, 4, 5]\n",
        "product = 1\n",
        "for num in numbers:\n",
        "    product*= num\n",
        "print(\"Product of all items in the list:\", product)\n"
      ],
      "metadata": {
        "colab": {
          "base_uri": "https://localhost:8080/"
        },
        "id": "CmocYCshUHdI",
        "outputId": "b5c06ce5-ca1a-4648-a515-133733e7eba5"
      },
      "execution_count": null,
      "outputs": [
        {
          "output_type": "stream",
          "name": "stdout",
          "text": [
            "Product of all items in the list: 120\n"
          ]
        }
      ]
    },
    {
      "cell_type": "code",
      "source": [
        "# SOL 4\n",
        "depth = 3\n",
        "rows = 4\n",
        "columns = 6\n",
        "\n",
        "array_3d = []\n",
        "\n",
        "for i in range(depth):\n",
        "    layer = []\n",
        "    for j in range(rows):\n",
        "        row = []\n",
        "        for k in range(columns):\n",
        "            row.append('*')\n",
        "        layer.append(row)\n",
        "    array_3d.append(layer)\n",
        "\n",
        "for i, layer in enumerate(array_3d):\n",
        "    print(f\"Layer {i + 1}:\")\n",
        "    for row in layer:\n",
        "        print(' '.join(row))\n",
        "    print()\n"
      ],
      "metadata": {
        "colab": {
          "base_uri": "https://localhost:8080/"
        },
        "id": "VrrUV-k6WdWw",
        "outputId": "b88cbae8-b6b8-47cd-e3f4-783c6c1b47a2"
      },
      "execution_count": null,
      "outputs": [
        {
          "output_type": "stream",
          "name": "stdout",
          "text": [
            "Layer 1:\n",
            "* * * * * *\n",
            "* * * * * *\n",
            "* * * * * *\n",
            "* * * * * *\n",
            "\n",
            "Layer 2:\n",
            "* * * * * *\n",
            "* * * * * *\n",
            "* * * * * *\n",
            "* * * * * *\n",
            "\n",
            "Layer 3:\n",
            "* * * * * *\n",
            "* * * * * *\n",
            "* * * * * *\n",
            "* * * * * *\n",
            "\n"
          ]
        }
      ]
    },
    {
      "cell_type": "code",
      "source": [
        "from typing import ValuesView\n",
        "#SOL 5\n",
        "#(i)\n",
        "D={1:5.6,2:7.8,3:6.6,4:8.7,5:7.7}\n",
        "D[8]=8.8\n",
        "print(\"After adding new entry:\",D)\n",
        "#(ii)\n",
        "del D[2]\n",
        "print(\"After removing key 2: \",D)\n",
        "#(iii)\n",
        "key_present=6 in D\n",
        "print(\"Is key 6 in D?\",key_present)\n",
        "#(iv)\n",
        "count=len(D)\n",
        "print(\"Number of elements in D: \",count)\n",
        "#(v)\n",
        "total_sum=0\n",
        "for value in D.values():\n",
        "  total_sum+=value\n",
        "print(\"Sum of all values in D:\",total_sum)\n",
        "#(vi)\n",
        "D[3]=7.1\n",
        "print(\"After updating value of key 3:\",D)\n",
        "#(vii)\n",
        "D.clear()\n",
        "print(\"After clearing the dictionary:\",D)\n"
      ],
      "metadata": {
        "colab": {
          "base_uri": "https://localhost:8080/"
        },
        "id": "3JiBrOuXVD-I",
        "outputId": "529ce9e3-73fc-4a88-a04d-57c9eed65fe6"
      },
      "execution_count": null,
      "outputs": [
        {
          "output_type": "stream",
          "name": "stdout",
          "text": [
            "After adding new entry: {1: 5.6, 2: 7.8, 3: 6.6, 4: 8.7, 5: 7.7, 8: 8.8}\n",
            "After removing key 2:  {1: 5.6, 3: 6.6, 4: 8.7, 5: 7.7, 8: 8.8}\n",
            "Is key 6 in D? False\n",
            "Number of elements in D:  5\n",
            "Sum of all values in D: 37.4\n",
            "After updating value of key 3: {1: 5.6, 3: 7.1, 4: 8.7, 5: 7.7, 8: 8.8}\n",
            "After clearing the dictionary: {}\n"
          ]
        }
      ]
    },
    {
      "cell_type": "code",
      "source": [
        "#SOL 6\n",
        "#(i)\n",
        "S1={10,20,30,40,50,60}\n",
        "S2={40,50,60,70,80,90}\n",
        "S1.add(55)\n",
        "S1.add(66)\n",
        "print(\"After adding 55 and 66:\",S1)\n",
        "#(ii)\n",
        "S1.discard(10)\n",
        "S1.discard(30)\n",
        "print(\"After removing 10 and 30:\",S1)\n",
        "#(iii)\n",
        "is_present=40 in S1\n",
        "print(\"Is 40 in S1?\",is_present)\n",
        "#(iv)\n",
        "union=S1.union(S2)\n",
        "print(\"Union of S1 and S2:\",union)\n",
        "#(v)\n",
        "intersection=S1.intersection(S2)\n",
        "print(\"Intersection of S1 and S2:\",intersection)\n",
        "#(vi)\n",
        "difference=S1.difference(S2)\n",
        "print(\"S1-S2:\",difference)\n"
      ],
      "metadata": {
        "colab": {
          "base_uri": "https://localhost:8080/"
        },
        "id": "Uuf-7uLlX6Hv",
        "outputId": "68930ae1-1bab-49b7-db49-ff85ddcda275"
      },
      "execution_count": null,
      "outputs": [
        {
          "output_type": "stream",
          "name": "stdout",
          "text": [
            "After adding 55 and 66: {50, 66, 20, 55, 40, 10, 60, 30}\n",
            "After removing 10 and 30: {50, 66, 20, 55, 40, 60}\n",
            "Is 40 in S1? True\n",
            "Union of S1 and S2: {66, 70, 40, 80, 50, 20, 55, 90, 60}\n",
            "Intersection of S1 and S2: {40, 50, 60}\n",
            "S1-S2: {66, 20, 55}\n"
          ]
        }
      ]
    },
    {
      "cell_type": "code",
      "source": [
        "#SOL 7\n",
        "#(i)\n",
        "import random\n",
        "import string\n",
        "\n",
        "def generate_random_string(length):\n",
        "    return ''.join(random.choices(string.ascii_letters, k=length))\n",
        "\n",
        "for _ in range(100):\n",
        "    length = random.randint(6, 8)\n",
        "    print(generate_random_string(length))\n",
        "\n"
      ],
      "metadata": {
        "id": "a_WeVNRZbXdu",
        "colab": {
          "base_uri": "https://localhost:8080/"
        },
        "outputId": "cc992676-3619-40a4-efef-7919687e886d"
      },
      "execution_count": null,
      "outputs": [
        {
          "output_type": "stream",
          "name": "stdout",
          "text": [
            "GWcfyn\n",
            "WAdHIOf\n",
            "LYrMzSg\n",
            "XfYhcLrm\n",
            "RPzQFcYs\n",
            "SREdij\n",
            "kyqrRE\n",
            "DliLXaQX\n",
            "jEeFat\n",
            "BFJeAXo\n",
            "OQfaixQh\n",
            "xhNWeTXb\n",
            "apPQQie\n",
            "TNKqJk\n",
            "SjjPNsAZ\n",
            "bwSwhMUr\n",
            "ioLFex\n",
            "hXjZYHDK\n",
            "bnMUCirS\n",
            "jeArVV\n",
            "JYjQQvG\n",
            "djcghG\n",
            "vbOaXOuE\n",
            "ewkSJh\n",
            "VZvwgmu\n",
            "FMiPiLPT\n",
            "HHdmxe\n",
            "IjMNzx\n",
            "XMcQfpKN\n",
            "CINHihzG\n",
            "AiETypwO\n",
            "GibakSnD\n",
            "kiTMkH\n",
            "wkncfSE\n",
            "dPaCLZf\n",
            "pyEocv\n",
            "FWRMpQ\n",
            "JgjEeGk\n",
            "Yxaqbz\n",
            "UibRjHv\n",
            "TjsCUI\n",
            "KtUmGe\n",
            "TlaWHX\n",
            "JIcNpvzo\n",
            "OkKexdJM\n",
            "gYxrSLh\n",
            "XDHvRk\n",
            "NFXowZ\n",
            "vTfwuEc\n",
            "XyLggRw\n",
            "KeZeZX\n",
            "lrOBLzI\n",
            "xwGRXJvB\n",
            "SPwruRm\n",
            "SXaeOm\n",
            "cRFkeQ\n",
            "KhVYpK\n",
            "RdNgYR\n",
            "VBwFWEXX\n",
            "oNxFFCOt\n",
            "UsjVFs\n",
            "jVGaeDDA\n",
            "ZQDUFb\n",
            "PvAgjDNx\n",
            "AUdsJDe\n",
            "oWCgbmZ\n",
            "IMRkrbn\n",
            "axLjfNxg\n",
            "JKiUxPa\n",
            "LbiCKiH\n",
            "zufnJpNt\n",
            "stffEyKw\n",
            "eZeyarpG\n",
            "SxIhfW\n",
            "lOmWBM\n",
            "BSWstzE\n",
            "aHmYPFr\n",
            "TLoOaQ\n",
            "THCCGKR\n",
            "tjBTduq\n",
            "YlsYTn\n",
            "WvRVgJ\n",
            "gXEiamB\n",
            "MCdDIOb\n",
            "BtuSUH\n",
            "MeitEVh\n",
            "NSRmAtKs\n",
            "PwPZkKT\n",
            "wttiCU\n",
            "xfPwvI\n",
            "dMQFti\n",
            "rFxTdg\n",
            "CUOyVBsT\n",
            "EsbmzyT\n",
            "ncSqiNl\n",
            "GCtbDNVF\n",
            "dmNIcQjX\n",
            "QiklYLc\n",
            "IATGkBs\n",
            "PaKmfps\n"
          ]
        }
      ]
    },
    {
      "cell_type": "code",
      "source": [
        "#(ii)\n",
        "def is_prime(num):\n",
        "    if num <= 1:\n",
        "        return False\n",
        "    for i in range(2, int(num**0.5) + 1):\n",
        "        if num % i == 0:\n",
        "            return False\n",
        "    return True\n",
        "\n",
        "for num in range(600, 801):\n",
        "    if is_prime(num):\n",
        "        print(num)\n"
      ],
      "metadata": {
        "colab": {
          "base_uri": "https://localhost:8080/"
        },
        "id": "H2a4VZkR0fGu",
        "outputId": "3d4ececf-c73f-4122-d831-eb31b6bb976d"
      },
      "execution_count": null,
      "outputs": [
        {
          "output_type": "stream",
          "name": "stdout",
          "text": [
            "601\n",
            "607\n",
            "613\n",
            "617\n",
            "619\n",
            "631\n",
            "641\n",
            "643\n",
            "647\n",
            "653\n",
            "659\n",
            "661\n",
            "673\n",
            "677\n",
            "683\n",
            "691\n",
            "701\n",
            "709\n",
            "719\n",
            "727\n",
            "733\n",
            "739\n",
            "743\n",
            "751\n",
            "757\n",
            "761\n",
            "769\n",
            "773\n",
            "787\n",
            "797\n"
          ]
        }
      ]
    },
    {
      "cell_type": "code",
      "source": [
        "#(iii)\n",
        "for num in range(100, 1001):\n",
        "    if num % 7 == 0 and num % 9 == 0:\n",
        "        print(num)\n"
      ],
      "metadata": {
        "colab": {
          "base_uri": "https://localhost:8080/"
        },
        "id": "bccpgFz00xn4",
        "outputId": "12779610-df0d-4597-a18d-f7594ce4bae7"
      },
      "execution_count": null,
      "outputs": [
        {
          "output_type": "stream",
          "name": "stdout",
          "text": [
            "126\n",
            "189\n",
            "252\n",
            "315\n",
            "378\n",
            "441\n",
            "504\n",
            "567\n",
            "630\n",
            "693\n",
            "756\n",
            "819\n",
            "882\n",
            "945\n"
          ]
        }
      ]
    },
    {
      "cell_type": "code",
      "source": [
        "#SOL 8\n",
        "exam_st_date = (11, 12, 2014)\n",
        "day, month, year = exam_st_date\n",
        "print(f\"Examination is scheduled to start on: {day}/{month}/{year}\")\n"
      ],
      "metadata": {
        "colab": {
          "base_uri": "https://localhost:8080/"
        },
        "id": "1jXjF7U61AMx",
        "outputId": "b98e8582-44b3-4d99-c9e9-34d79b0f173c"
      },
      "execution_count": null,
      "outputs": [
        {
          "output_type": "stream",
          "name": "stdout",
          "text": [
            "Examination is scheduled to start on: 11/12/2014\n"
          ]
        }
      ]
    },
    {
      "cell_type": "code",
      "source": [
        "#SOL 9\n",
        "numbers=[10,15,22,25,30]\n",
        "for num in numbers:\n",
        "  if num % 5==0:\n",
        "    print(num)"
      ],
      "metadata": {
        "colab": {
          "base_uri": "https://localhost:8080/"
        },
        "id": "XZDjL4371dik",
        "outputId": "466a6e94-8145-4080-e3e9-338cd9664b7a"
      },
      "execution_count": null,
      "outputs": [
        {
          "output_type": "stream",
          "name": "stdout",
          "text": [
            "10\n",
            "15\n",
            "25\n",
            "30\n"
          ]
        }
      ]
    },
    {
      "cell_type": "code",
      "source": [
        "#SOL 10\n",
        "number = 8\n",
        "\n",
        "is_even = (number % 2 == 0)\n",
        "is_odd = (number % 2 != 0)\n",
        "\n",
        "print(f\"The number {number} is even: {is_even}\")\n",
        "print(f\"The number {number} is odd: {is_odd}\")\n"
      ],
      "metadata": {
        "colab": {
          "base_uri": "https://localhost:8080/"
        },
        "id": "c8A7KXYS2B0T",
        "outputId": "e5384436-ac2f-43fc-99d8-57c1e3fdd2b8"
      },
      "execution_count": null,
      "outputs": [
        {
          "output_type": "stream",
          "name": "stdout",
          "text": [
            "The number 8 is even: True\n",
            "The number 8 is odd: False\n"
          ]
        }
      ]
    },
    {
      "cell_type": "code",
      "source": [
        "#SOL 11\n",
        "text = \"Emma is a common name, Emma Watson is a famous actress. Emma is also a popular name in fiction.\"\n",
        "\n",
        "count = text.count(\"Emma\")\n",
        "print(f\"The substring 'Emma' appears {count} times in the given string.\")\n"
      ],
      "metadata": {
        "colab": {
          "base_uri": "https://localhost:8080/"
        },
        "id": "uzfrVhzT2sra",
        "outputId": "a907af74-50a6-4e3e-dd3b-1c994fdc8106"
      },
      "execution_count": null,
      "outputs": [
        {
          "output_type": "stream",
          "name": "stdout",
          "text": [
            "The substring 'Emma' appears 3 times in the given string.\n"
          ]
        }
      ]
    },
    {
      "cell_type": "code",
      "source": [
        "#SOL 12\n",
        "list1 = [1, 2, 3, 4, 5, 6]\n",
        "list2 = [10, 15, 20, 25, 30, 35]\n",
        "\n",
        "odd_numbers_from_list1 = [num for num in list1 if num % 2 != 0]\n",
        "even_numbers_from_list2 = [num for num in list2 if num % 2 == 0]\n",
        "\n",
        "new_list = odd_numbers_from_list1 + even_numbers_from_list2\n",
        "print(\"New list with odd numbers from the first list and even numbers from the second list:\", new_list)\n"
      ],
      "metadata": {
        "colab": {
          "base_uri": "https://localhost:8080/"
        },
        "id": "bd2wmDWo3d7-",
        "outputId": "633d4db1-ec08-443e-82d6-f258d5c3fe33"
      },
      "execution_count": null,
      "outputs": [
        {
          "output_type": "stream",
          "name": "stdout",
          "text": [
            "New list with odd numbers from the first list and even numbers from the second list: [1, 3, 5, 10, 20, 30]\n"
          ]
        }
      ]
    }
  ]
}