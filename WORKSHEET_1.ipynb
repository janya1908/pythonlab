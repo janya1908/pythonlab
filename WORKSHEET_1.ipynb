{
  "nbformat": 4,
  "nbformat_minor": 0,
  "metadata": {
    "colab": {
      "provenance": [],
      "authorship_tag": "ABX9TyN7H10O9bUcjWOGuELF0p4H",
      "include_colab_link": true
    },
    "kernelspec": {
      "name": "python3",
      "display_name": "Python 3"
    },
    "language_info": {
      "name": "python"
    }
  },
  "cells": [
    {
      "cell_type": "markdown",
      "metadata": {
        "id": "view-in-github",
        "colab_type": "text"
      },
      "source": [
        "<a href=\"https://colab.research.google.com/github/janya1908/pythonlab/blob/main/WORKSHEET_1.ipynb\" target=\"_parent\"><img src=\"https://colab.research.google.com/assets/colab-badge.svg\" alt=\"Open In Colab\"/></a>"
      ]
    },
    {
      "cell_type": "code",
      "execution_count": null,
      "metadata": {
        "colab": {
          "base_uri": "https://localhost:8080/"
        },
        "id": "P4G7-6yBodDL",
        "outputId": "ced01f9e-3447-4fba-e0bd-95af8aa0226b"
      },
      "outputs": [
        {
          "output_type": "stream",
          "name": "stdout",
          "text": [
            "Twinkle,twinkle,little star,\n",
            "How I wonder what you are!\n",
            "Up above the world so high,\n",
            "Like a diamond in the sky.\n",
            "Twinkle,twinkle,little star,\n",
            "How I wonder what you are!\n"
          ]
        }
      ],
      "source": [
        "#SOL 1\n",
        "print(\"Twinkle,twinkle,little star,\")\n",
        "print(\"How I wonder what you are!\")\n",
        "print(\"Up above the world so high,\")\n",
        "print(\"Like a diamond in the sky.\")\n",
        "print(\"Twinkle,twinkle,little star,\")\n",
        "print(\"How I wonder what you are!\")"
      ]
    },
    {
      "cell_type": "code",
      "source": [
        "#SOL 2\n",
        "first_name=input(\"Enter your first name: \")\n",
        "last_name=input(\"Enter your last name: \")\n",
        "print(f\"{last_name} {first_name}\")"
      ],
      "metadata": {
        "colab": {
          "base_uri": "https://localhost:8080/"
        },
        "id": "GETzrDKbo80y",
        "outputId": "1156491e-0e7c-446e-9e5f-220c30a1c1b7"
      },
      "execution_count": null,
      "outputs": [
        {
          "output_type": "stream",
          "name": "stdout",
          "text": [
            "Enter your first name: Janya\n",
            "Enter your last name: Makhija\n",
            "Makhija Janya\n"
          ]
        }
      ]
    },
    {
      "cell_type": "code",
      "source": [
        "#SOL 3\n",
        "radius=float(input(\"Enter the radius of the circle: \"))\n",
        "area=3.14*(radius**2)\n",
        "print(f\" The area of the circle is:{area}\")"
      ],
      "metadata": {
        "colab": {
          "base_uri": "https://localhost:8080/"
        },
        "id": "xWHhYmlwq_b9",
        "outputId": "acd524ea-52d7-4820-b171-50871a438fe9"
      },
      "execution_count": null,
      "outputs": [
        {
          "output_type": "stream",
          "name": "stdout",
          "text": [
            "Enter the radius of the circle: 2\n",
            " The area of the circle is:12.56\n"
          ]
        }
      ]
    },
    {
      "cell_type": "code",
      "source": [
        "#SOL 4\n",
        "color_list=[\"Red\",\"Green\",\"White\",\"Black\"]\n",
        "print(\"First color:\",color_list[0])\n",
        "print(\"Last color:\",color_list[-1])"
      ],
      "metadata": {
        "colab": {
          "base_uri": "https://localhost:8080/"
        },
        "id": "T-5Z9y_arpZR",
        "outputId": "6cbf2f7d-4a47-4f03-83c8-e004ec70d312"
      },
      "execution_count": null,
      "outputs": [
        {
          "output_type": "stream",
          "name": "stdout",
          "text": [
            "First color: Red\n",
            "Last color: Black\n"
          ]
        }
      ]
    },
    {
      "cell_type": "code",
      "source": [
        "#SOL 5\n",
        "n=int(input(\"Enter an integer value for n:\"))\n",
        "nn=int(str(n)+str(n))\n",
        "nnn=int(str(n)+str(n)+str(n))\n",
        "result=n+nn+nnn\n",
        "print(\"The result of n+nn+nnn is:\",result)"
      ],
      "metadata": {
        "colab": {
          "base_uri": "https://localhost:8080/"
        },
        "id": "pbNwEzDBsrJR",
        "outputId": "533c196e-2204-4600-f35b-8e6c0b3c88cd"
      },
      "execution_count": null,
      "outputs": [
        {
          "output_type": "stream",
          "name": "stdout",
          "text": [
            "Enter an integer value for n:1\n",
            "The result of n+nn+nnn is: 123\n"
          ]
        }
      ]
    },
    {
      "cell_type": "code",
      "source": [
        "#SOL 6\n",
        "numbers=input(\"Enter comma-separated numbers:\")\n",
        "num_list=numbers.split(',')\n",
        "num_tuple=tuple(num_list)\n",
        "print(\"List:\",num_list)\n",
        "print(\"Tuple:\",num_tuple)"
      ],
      "metadata": {
        "colab": {
          "base_uri": "https://localhost:8080/"
        },
        "id": "oneqYRj0thYL",
        "outputId": "df64fd37-d97b-46dd-d268-bdcebedbad19"
      },
      "execution_count": null,
      "outputs": [
        {
          "output_type": "stream",
          "name": "stdout",
          "text": [
            "Enter comma-separated numbers:1,2,3,4\n",
            "List: ['1', '2', '3', '4']\n",
            "Tuple: ('1', '2', '3', '4')\n"
          ]
        }
      ]
    },
    {
      "cell_type": "code",
      "source": [
        "#SOL 7\n",
        "celsius=float(input(\"Enter temperature in celsius:\"))\n",
        "fahrenheit=(celsius*9/5)+32\n",
        "print(\"Temperature in fahrenheit:\",fahrenheit)"
      ],
      "metadata": {
        "colab": {
          "base_uri": "https://localhost:8080/"
        },
        "id": "AN-FzLMUuZsX",
        "outputId": "ea841ee6-85aa-4c66-8c38-45e90fd1e1f6"
      },
      "execution_count": null,
      "outputs": [
        {
          "output_type": "stream",
          "name": "stdout",
          "text": [
            "Enter temperature in celsius:0\n",
            "Temperature in fahrenheit: 32.0\n"
          ]
        }
      ]
    },
    {
      "cell_type": "code",
      "source": [
        "#SOL 8\n",
        "a=int(input(\"Enter the first number:\"))\n",
        "b=int(input(\"Enter the second number:\"))\n",
        "a,b=b,a\n",
        "print(f\"After swapping:a={a},b={b}\")\n",
        "a+=1\n",
        "print(f\"After incrementing'a':a={a}\")\n"
      ],
      "metadata": {
        "colab": {
          "base_uri": "https://localhost:8080/"
        },
        "id": "xKHaqxBavBTy",
        "outputId": "2f4ea48d-c0c6-4a89-b7a9-e91d8363f523"
      },
      "execution_count": null,
      "outputs": [
        {
          "output_type": "stream",
          "name": "stdout",
          "text": [
            "Enter the first number:2\n",
            "Enter the second number:4\n",
            "After swapping:a=4,b=2\n",
            "After incrementing'a':a=5\n"
          ]
        }
      ]
    },
    {
      "cell_type": "code",
      "source": [
        "#SOL 9\n",
        "number=int(input(\"Enter a number:\"))\n",
        "if number%2==0:\n",
        "  print(\"The number is even.\")\n",
        "else:\n",
        "  print(\"The number is odd\")"
      ],
      "metadata": {
        "colab": {
          "base_uri": "https://localhost:8080/"
        },
        "id": "zHJDQc78v7W-",
        "outputId": "c0596f4b-ccb4-46cf-859c-d69c839e20a3"
      },
      "execution_count": null,
      "outputs": [
        {
          "output_type": "stream",
          "name": "stdout",
          "text": [
            "Enter a number:222\n",
            "The number is even.\n"
          ]
        }
      ]
    },
    {
      "cell_type": "code",
      "source": [
        "#SOL 10\n",
        "year=int(input(\"Enter a year:\"))\n",
        "if(year%4==0 and year%100!=0)or(year%400==0):\n",
        "  print(f\"{year} is a leap year.\")\n",
        "else:\n",
        "  print(f\"{year} is not a leap year.\")\n"
      ],
      "metadata": {
        "colab": {
          "base_uri": "https://localhost:8080/"
        },
        "id": "7NCaVY7C9K42",
        "outputId": "bc01f3dc-5b29-482b-e5c4-54a4582230df"
      },
      "execution_count": null,
      "outputs": [
        {
          "output_type": "stream",
          "name": "stdout",
          "text": [
            "Enter a year:2022\n",
            "2022 is not a leap year.\n"
          ]
        }
      ]
    },
    {
      "cell_type": "code",
      "source": [
        "#SOL 11\n",
        "x1=float(input(\"Enter x coordinate of first point:\"))\n",
        "y1=float(input(\"Enter y coordinate of first point\"))\n",
        "x2=float(input(\"Enter x coordinate of second point\"))\n",
        "y2=float(input(\"Enter y coordinate of second point \"))\n",
        "a=(x2-x1)**2\n",
        "b=(y2-y1)**2\n",
        "distance=(a+b)**0.5\n",
        "print(\"The Euclidean distance is:\",distance)"
      ],
      "metadata": {
        "colab": {
          "base_uri": "https://localhost:8080/"
        },
        "id": "TdsFQ-Yx-Inp",
        "outputId": "f277031e-2d3b-4d69-ccbd-a2bbda9c51f2"
      },
      "execution_count": null,
      "outputs": [
        {
          "output_type": "stream",
          "name": "stdout",
          "text": [
            "Enter x coordinate of first point:1\n",
            "Enter y coordinate of first point0\n",
            "Enter x coordinate of second point2\n",
            "Enter y coordinate of second point 0\n",
            "The Euclidean distance is: 1.0\n"
          ]
        }
      ]
    },
    {
      "cell_type": "code",
      "source": [
        "#SOL 12\n",
        "angle1=float(input(\"Enter the first angle:\"))\n",
        "angle2=float(input(\"Enter the second angle:\"))\n",
        "angle3=float(input(\"Enter the third angle:\"))\n",
        "if angle1+angle2+angle3==180:\n",
        "  print(\"The angles can form a triangle.\")\n",
        "else:\n",
        "  print(\"The angles cannot form a triangle.\")"
      ],
      "metadata": {
        "colab": {
          "base_uri": "https://localhost:8080/"
        },
        "id": "qYmhICtc_hqj",
        "outputId": "62846066-c681-4c00-f506-f6f4c51efd6e"
      },
      "execution_count": null,
      "outputs": [
        {
          "output_type": "stream",
          "name": "stdout",
          "text": [
            "Enter the first angle:40\n",
            "Enter the second angle:20\n",
            "Enter the third angle:30\n",
            "The angles cannot form a triangle.\n"
          ]
        }
      ]
    },
    {
      "cell_type": "code",
      "source": [
        "#SOL 13\n",
        "principal=float(input(\"Enter the principal amount:\"))\n",
        "rate=float(input(\"Enter the annual interest rate(in %):\"))/100\n",
        "time=float(input(\"Enter the time in years:\"))\n",
        "n=int(input(\"Enter the number of times interest is compounded per year:\"))\n",
        "amount=principal*(1+rate/n)**(n*time)\n",
        "interest=amount-principal\n",
        "print(f\"Compound Interest is :{interest}\")"
      ],
      "metadata": {
        "colab": {
          "base_uri": "https://localhost:8080/"
        },
        "id": "6TGan499AiMg",
        "outputId": "3fcfbcf5-d14e-4dbb-d6d5-ff8d26f9f016"
      },
      "execution_count": null,
      "outputs": [
        {
          "output_type": "stream",
          "name": "stdout",
          "text": [
            "Enter the principal amount:1000\n",
            "Enter the annual interest rate(in %):1\n",
            "Enter the time in years:1\n",
            "Enter the number of times interest is compounded per year:1\n",
            "Compound Interest is :10.0\n"
          ]
        }
      ]
    },
    {
      "cell_type": "code",
      "source": [
        "#SOL 14\n",
        "num=int(input(\"Enter a positive integer:\"))\n",
        "if num<=1:\n",
        "  print(f\"{num} is not a prime number.\")\n",
        "elif num>1:\n",
        "  for i  in range(2,num):\n",
        "     if(num%i==0):\n",
        "      print(f\"{num} is not a prime number\")\n",
        "      break\n",
        "     else:\n",
        "      print(f\"{num} is a prime number\")\n",
        "      break"
      ],
      "metadata": {
        "colab": {
          "base_uri": "https://localhost:8080/"
        },
        "id": "ROFTEgVICwB2",
        "outputId": "fa8c0893-f521-4ab7-cf64-d1ae4bccbd85"
      },
      "execution_count": null,
      "outputs": [
        {
          "output_type": "stream",
          "name": "stdout",
          "text": [
            "Enter a positive integer:7\n",
            "7 is a prime number\n"
          ]
        }
      ]
    },
    {
      "cell_type": "code",
      "source": [
        "N=int(input(\"Enter a positive integer N:\"))\n",
        "total=(N*(N+1)*(2*N+1))/6\n",
        "print(f\"The sum of squares from 1 to {N} is {total}\")"
      ],
      "metadata": {
        "colab": {
          "base_uri": "https://localhost:8080/"
        },
        "id": "ZhhePdy1Fp2A",
        "outputId": "007b980e-0a87-4929-94e3-92aaf47d8a46"
      },
      "execution_count": null,
      "outputs": [
        {
          "output_type": "stream",
          "name": "stdout",
          "text": [
            "Enter a positive integer N:3\n",
            "The sum of squares from 1 to 3 is 14.0\n"
          ]
        }
      ]
    },
    {
      "cell_type": "markdown",
      "source": [],
      "metadata": {
        "id": "yIceSy8Sq-zR"
      }
    }
  ]
}